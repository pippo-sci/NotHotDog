{
 "cells": [
  {
   "cell_type": "code",
   "execution_count": 1,
   "metadata": {},
   "outputs": [
    {
     "name": "stderr",
     "output_type": "stream",
     "text": [
      "DEBUG:tensorflow:Falling back to TensorFlow client; we recommended you install the Cloud TPU client directly with pip install cloud-tpu-client.\n",
      "DEBUG:h5py._conv:Creating converter from 7 to 5\n",
      "DEBUG:h5py._conv:Creating converter from 5 to 7\n",
      "DEBUG:h5py._conv:Creating converter from 7 to 5\n",
      "DEBUG:h5py._conv:Creating converter from 5 to 7\n",
      "DEBUG:matplotlib:matplotlib data path: c:\\Users\\framo\\Google Drive\\github\\NotHotDog\\.conda\\lib\\site-packages\\matplotlib\\mpl-data\n",
      "DEBUG:matplotlib:CONFIGDIR=C:\\Users\\framo\\.matplotlib\n",
      "DEBUG:matplotlib:interactive is False\n",
      "DEBUG:matplotlib:platform is win32\n",
      "DEBUG:matplotlib:CACHEDIR=C:\\Users\\framo\\.matplotlib\n",
      "DEBUG:matplotlib.font_manager:Using fontManager instance from C:\\Users\\framo\\.matplotlib\\fontlist-v330.json\n"
     ]
    }
   ],
   "source": [
    "import pandas as pd\n",
    "import numpy as np\n",
    "import processing_pipeline as pp\n",
    "import tensorflow as tf\n",
    "from tensorflow import keras\n",
    "from tensorflow.keras import layers\n",
    "import matplotlib.pyplot as plt\n",
    "from scipy import ndimage \n",
    "from sklearn.model_selection import train_test_split\n",
    "import processing_pipeline as pp\n"
   ]
  },
  {
   "cell_type": "code",
   "execution_count": 8,
   "metadata": {},
   "outputs": [],
   "source": [
    "pipe = pp.preprocess()\n",
    "df = pipe.rebuild_dataset('../df.h5')"
   ]
  },
  {
   "cell_type": "code",
   "execution_count": 10,
   "metadata": {},
   "outputs": [
    {
     "data": {
      "text/plain": [
       "(4630, 2)"
      ]
     },
     "execution_count": 10,
     "metadata": {},
     "output_type": "execute_result"
    }
   ],
   "source": [
    "df.shape"
   ]
  },
  {
   "cell_type": "code",
   "execution_count": 11,
   "metadata": {},
   "outputs": [],
   "source": [
    "img = np.stack(df.img)"
   ]
  },
  {
   "cell_type": "code",
   "execution_count": 54,
   "metadata": {},
   "outputs": [],
   "source": [
    "from sklearn.preprocessing import MultiLabelBinarizer, LabelEncoder\n",
    "\n",
    "encoder = LabelEncoder().fit(df.label.str.contains(\"Hot\"))\n",
    "labels = encoder.transform(df.label.str.contains(\"Hot\"))\n"
   ]
  },
  {
   "cell_type": "code",
   "execution_count": 56,
   "metadata": {},
   "outputs": [],
   "source": [
    "\n",
    "X_train, X_test, y_train, y_test = train_test_split(\n",
    "    img, labels, test_size=0.33, random_state=42)\n"
   ]
  },
  {
   "cell_type": "code",
   "execution_count": 13,
   "metadata": {},
   "outputs": [
    {
     "data": {
      "text/plain": [
       "(3102, 250, 250, 3)"
      ]
     },
     "execution_count": 13,
     "metadata": {},
     "output_type": "execute_result"
    }
   ],
   "source": [
    "X_train.shape"
   ]
  },
  {
   "cell_type": "code",
   "execution_count": 57,
   "metadata": {},
   "outputs": [
    {
     "name": "stdout",
     "output_type": "stream",
     "text": [
      "97/97 [==============================] - 372s 4s/step\n",
      "48/48 [==============================] - 174s 4s/step\n"
     ]
    }
   ],
   "source": [
    "from tensorflow.keras.models import Model\n",
    "from tensorflow.keras.applications.resnet50 import ResNet50\n",
    "from tensorflow.keras.preprocessing import image\n",
    "from tensorflow.keras.applications.resnet50 import preprocess_input, decode_predictions\n",
    "#we can set the input size to be the size of the input image (not necessarily 224x224)\n",
    "#VGG19(weights='imagenet', input_shape=[32,32,3],include_top=False) \n",
    "base_model = ResNet50(weights='imagenet',input_shape=[250,250,3],include_top=False)\n",
    "\n",
    "feature_model = Model(inputs= base_model.input, outputs=base_model.output )\n",
    "\n",
    "train_images_sub = preprocess_input(X_train)\n",
    "test_images_sub = preprocess_input(X_test)\n",
    "train_features = feature_model.predict(train_images_sub)\n",
    "test_features = feature_model.predict(test_images_sub)"
   ]
  },
  {
   "cell_type": "code",
   "execution_count": 58,
   "metadata": {},
   "outputs": [
    {
     "data": {
      "text/plain": [
       "(3102, 8, 8, 2048)"
      ]
     },
     "execution_count": 58,
     "metadata": {},
     "output_type": "execute_result"
    }
   ],
   "source": [
    "train_features.shape"
   ]
  },
  {
   "cell_type": "code",
   "execution_count": 59,
   "metadata": {},
   "outputs": [
    {
     "name": "stdout",
     "output_type": "stream",
     "text": [
      "Epoch 1/30\n",
      "97/97 [==============================] - 70s 654ms/step - loss: 3.2244 - accuracy: 0.6593 - val_loss: 0.6428 - val_accuracy: 0.7788\n",
      "Epoch 2/30\n",
      "97/97 [==============================] - 61s 628ms/step - loss: 0.5489 - accuracy: 0.7444 - val_loss: 0.7974 - val_accuracy: 0.7781\n",
      "Epoch 3/30\n",
      "97/97 [==============================] - 60s 624ms/step - loss: 0.6773 - accuracy: 0.7202 - val_loss: 0.8217 - val_accuracy: 0.5255\n",
      "Epoch 4/30\n",
      "97/97 [==============================] - 62s 637ms/step - loss: 0.4852 - accuracy: 0.7756 - val_loss: 0.4625 - val_accuracy: 0.7912\n",
      "Epoch 5/30\n",
      "97/97 [==============================] - 64s 657ms/step - loss: 0.5597 - accuracy: 0.7602 - val_loss: 1.0436 - val_accuracy: 0.7768\n",
      "Epoch 6/30\n",
      "97/97 [==============================] - 63s 651ms/step - loss: 0.5725 - accuracy: 0.7605 - val_loss: 0.4557 - val_accuracy: 0.7978\n",
      "Epoch 7/30\n",
      "97/97 [==============================] - 63s 654ms/step - loss: 0.4149 - accuracy: 0.8153 - val_loss: 0.4443 - val_accuracy: 0.7958\n",
      "Epoch 8/30\n",
      "97/97 [==============================] - 63s 647ms/step - loss: 0.3908 - accuracy: 0.8159 - val_loss: 0.5661 - val_accuracy: 0.7284\n",
      "Epoch 9/30\n",
      "97/97 [==============================] - 63s 649ms/step - loss: 0.4356 - accuracy: 0.8133 - val_loss: 0.5773 - val_accuracy: 0.7173\n",
      "Epoch 10/30\n",
      "97/97 [==============================] - 62s 642ms/step - loss: 0.4228 - accuracy: 0.8085 - val_loss: 0.4386 - val_accuracy: 0.8024\n",
      "Epoch 11/30\n",
      "97/97 [==============================] - 62s 642ms/step - loss: 0.3696 - accuracy: 0.8391 - val_loss: 0.4415 - val_accuracy: 0.7984\n",
      "Epoch 12/30\n",
      "97/97 [==============================] - 62s 640ms/step - loss: 0.3993 - accuracy: 0.8224 - val_loss: 0.4706 - val_accuracy: 0.7880\n",
      "Epoch 13/30\n",
      "97/97 [==============================] - 62s 640ms/step - loss: 0.3439 - accuracy: 0.8491 - val_loss: 0.4588 - val_accuracy: 0.7919\n",
      "Epoch 14/30\n",
      "97/97 [==============================] - 65s 669ms/step - loss: 0.3311 - accuracy: 0.8524 - val_loss: 0.4557 - val_accuracy: 0.7978\n",
      "Epoch 15/30\n",
      "97/97 [==============================] - 67s 696ms/step - loss: 0.3757 - accuracy: 0.8369 - val_loss: 0.4393 - val_accuracy: 0.8037\n",
      "Epoch 16/30\n",
      "97/97 [==============================] - 68s 700ms/step - loss: 0.3270 - accuracy: 0.8656 - val_loss: 0.4407 - val_accuracy: 0.8069\n",
      "Epoch 17/30\n",
      "97/97 [==============================] - 66s 685ms/step - loss: 0.3005 - accuracy: 0.8730 - val_loss: 0.4442 - val_accuracy: 0.8024\n",
      "Epoch 18/30\n",
      "97/97 [==============================] - 69s 716ms/step - loss: 0.3087 - accuracy: 0.8727 - val_loss: 0.4576 - val_accuracy: 0.8043\n",
      "Epoch 19/30\n",
      "97/97 [==============================] - 70s 726ms/step - loss: 0.3218 - accuracy: 0.8546 - val_loss: 0.6851 - val_accuracy: 0.7834\n",
      "Epoch 20/30\n",
      "97/97 [==============================] - 70s 723ms/step - loss: 0.3083 - accuracy: 0.8620 - val_loss: 0.4761 - val_accuracy: 0.7991\n",
      "Epoch 21/30\n",
      "97/97 [==============================] - 72s 741ms/step - loss: 0.3453 - accuracy: 0.8562 - val_loss: 0.6502 - val_accuracy: 0.7853\n",
      "Epoch 22/30\n",
      "97/97 [==============================] - 70s 722ms/step - loss: 0.2980 - accuracy: 0.8698 - val_loss: 0.4836 - val_accuracy: 0.7880\n",
      "Epoch 23/30\n",
      "97/97 [==============================] - 71s 732ms/step - loss: 0.3196 - accuracy: 0.8546 - val_loss: 0.4998 - val_accuracy: 0.7827\n",
      "Epoch 24/30\n",
      "97/97 [==============================] - 72s 741ms/step - loss: 0.2647 - accuracy: 0.8894 - val_loss: 0.4892 - val_accuracy: 0.7866\n",
      "Epoch 25/30\n",
      "97/97 [==============================] - 72s 744ms/step - loss: 0.2792 - accuracy: 0.8827 - val_loss: 0.4686 - val_accuracy: 0.7984\n",
      "Epoch 26/30\n",
      "97/97 [==============================] - 70s 721ms/step - loss: 0.2933 - accuracy: 0.8752 - val_loss: 0.4658 - val_accuracy: 0.7984\n",
      "Epoch 27/30\n",
      "97/97 [==============================] - 70s 720ms/step - loss: 0.2616 - accuracy: 0.8959 - val_loss: 0.4958 - val_accuracy: 0.7834\n",
      "Epoch 28/30\n",
      "97/97 [==============================] - 71s 730ms/step - loss: 0.2683 - accuracy: 0.8888 - val_loss: 0.6776 - val_accuracy: 0.6898\n",
      "Epoch 29/30\n",
      "97/97 [==============================] - 67s 695ms/step - loss: 0.2705 - accuracy: 0.8814 - val_loss: 0.5089 - val_accuracy: 0.8050\n",
      "Epoch 30/30\n",
      "97/97 [==============================] - 69s 707ms/step - loss: 0.2599 - accuracy: 0.8907 - val_loss: 0.4978 - val_accuracy: 0.7925\n"
     ]
    }
   ],
   "source": [
    "model4 = keras.Sequential(\n",
    "    [\n",
    "        layers.Input((8, 8, 2048)),\n",
    "        layers.Flatten(),\n",
    "        layers.Dense(256, activation='relu'),\n",
    "        layers.Dense(2, activation='softmax')\n",
    "    ], \n",
    ")\n",
    "\n",
    "opt = keras.optimizers.Adam(learning_rate=0.001)\n",
    "model4.compile(optimizer=opt,\n",
    "            loss=tf.keras.losses.SparseCategoricalCrossentropy(from_logits=False),\n",
    "            metrics=['accuracy'])\n",
    "\n",
    "cls4=model4.fit(train_features, y_train, validation_data=(test_features, y_test),epochs=30, batch_size=32)"
   ]
  },
  {
   "cell_type": "code",
   "execution_count": 60,
   "metadata": {},
   "outputs": [
    {
     "data": {
      "image/png": "[encoded data removed]",
      "text/plain": [
       "<Figure size 640x480 with 1 Axes>"
      ]
     },
     "metadata": {},
     "output_type": "display_data"
    }
   ],
   "source": [
    "plt.plot(cls4.history['accuracy'], label='Train')\n",
    "plt.plot(cls4.history['val_accuracy'], label='Test')\n",
    "plt.ylabel('Accuracy')\n",
    "plt.xlabel('Epoch')\n",
    "plt.title('Training and testing accuracy')\n",
    "plt.legend()\n",
    "plt.show()"
   ]
  },
  {
   "cell_type": "code",
   "execution_count": 63,
   "metadata": {},
   "outputs": [
    {
     "data": {
      "text/plain": [
       "0.7615550755939525"
      ]
     },
     "execution_count": 63,
     "metadata": {},
     "output_type": "execute_result"
    }
   ],
   "source": [
    "# Majority class only\n",
    "np.unique(labels, return_counts=True)\n",
    "3526/(3526+1104)\n"
   ]
  }
 ],
 "metadata": {
  "kernelspec": {
   "display_name": "Python 3",
   "language": "python",
   "name": "python3"
  },
  "language_info": {
   "codemirror_mode": {
    "name": "ipython",
    "version": 3
   },
   "file_extension": ".py",
   "mimetype": "text/x-python",
   "name": "python",
   "nbconvert_exporter": "python",
   "pygments_lexer": "ipython3",
   "version": "3.10.11"
  },
  "orig_nbformat": 4
 },
 "nbformat": 4,
 "nbformat_minor": 2
}
